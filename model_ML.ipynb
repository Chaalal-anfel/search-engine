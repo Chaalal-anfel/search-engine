{
  "nbformat": 4,
  "nbformat_minor": 0,
  "metadata": {
    "colab": {
      "name": "model_ML.ipynb",
      "provenance": [],
      "collapsed_sections": [],
      "authorship_tag": "ABX9TyMCUnWneh40yh/SUab6Gr3l",
      "include_colab_link": true
    },
    "kernelspec": {
      "name": "python3",
      "display_name": "Python 3"
    },
    "language_info": {
      "name": "python"
    }
  },
  "cells": [
    {
      "cell_type": "markdown",
      "metadata": {
        "id": "view-in-github",
        "colab_type": "text"
      },
      "source": [
        "<a href=\"https://colab.research.google.com/github/Chaalal-anfel/search-engine/blob/master/model_ML.ipynb\" target=\"_parent\"><img src=\"https://colab.research.google.com/assets/colab-badge.svg\" alt=\"Open In Colab\"/></a>"
      ]
    },
    {
      "cell_type": "code",
      "execution_count": 61,
      "metadata": {
        "id": "_-XZosMrMx_R"
      },
      "outputs": [],
      "source": [
        "%matplotlib inline\n",
        "import numpy as np\n",
        "import pandas as pd\n",
        "import matplotlib.pyplot as plt\n",
        "import seaborn as sns\n",
        "\n",
        "from sklearn.neighbors import KNeighborsClassifier\n",
        "from sklearn.naive_bayes import GaussianNB\n",
        "from sklearn.tree import DecisionTreeClassifier\n",
        "from sklearn.model_selection import train_test_split\n",
        "from sklearn.metrics import confusion_matrix, classification_report\n",
        "from sklearn import preprocessing\n"
      ]
    },
    {
      "cell_type": "markdown",
      "source": [
        "installation des bibliotèque nécessaire !!!!\n",
        " "
      ],
      "metadata": {
        "id": "eNf5N_JVU20M"
      }
    },
    {
      "cell_type": "markdown",
      "source": [
        "# Nouvelle section"
      ],
      "metadata": {
        "id": "R9dJV6wGI1oz"
      }
    },
    {
      "cell_type": "markdown",
      "source": [
        "2. importation et lecture de fichier de données:"
      ],
      "metadata": {
        "id": "Lz8s-MiSVEq-"
      }
    },
    {
      "cell_type": "code",
      "source": [
        "df = pd.read_csv('pos_data_en_march.csv')"
      ],
      "metadata": {
        "id": "5W1bN4rrOag7"
      },
      "execution_count": 62,
      "outputs": []
    },
    {
      "cell_type": "code",
      "source": [
        "print(df)\n"
      ],
      "metadata": {
        "colab": {
          "base_uri": "https://localhost:8080/"
        },
        "id": "LB46v34SOajb",
        "outputId": "ff46a2ff-43be-460e-b42d-b409c2e865fb"
      },
      "execution_count": 63,
      "outputs": [
        {
          "output_type": "stream",
          "name": "stdout",
          "text": [
            "                   temps    alt      lat       lon   sog    cog  eng_stat  \\\n",
            "0    2022-03-19 16:45:02  512.3  35.1892 -0.618785   0.0  108.6         1   \n",
            "1    2022-03-19 16:45:06  512.3  35.1892 -0.618785   0.0  108.6         1   \n",
            "2    2022-03-19 16:48:12  482.6  35.1916 -0.617493  23.3   80.4         1   \n",
            "3    2022-03-19 16:48:37  479.6  35.1917 -0.615918  21.6   83.8         1   \n",
            "4    2022-03-19 18:17:41  469.6  35.1920 -0.614705   0.0  195.9         1   \n",
            "..                   ...    ...      ...       ...   ...    ...       ...   \n",
            "348  2022-03-20 12:09:19  488.2  35.1898 -0.617778   0.0  100.9         1   \n",
            "349  2022-03-20 12:09:21  488.2  35.1898 -0.617778   0.0  100.9         1   \n",
            "350  2022-03-20 12:09:26  503.5  35.1895 -0.617638  30.1  159.4         1   \n",
            "351  2022-03-20 12:09:36  504.0  35.1890 -0.617675  27.8  249.0         1   \n",
            "352  2022-03-20 12:10:01  488.8  35.1889 -0.618786  22.7  331.7         1   \n",
            "\n",
            "     error  panic_bt_stat  station_stat  \n",
            "0        1              0             0  \n",
            "1        1              0             0  \n",
            "2        1              0             0  \n",
            "3        1              0             0  \n",
            "4        0              0             0  \n",
            "..     ...            ...           ...  \n",
            "348      0              0             0  \n",
            "349      0              0             0  \n",
            "350      1              0             0  \n",
            "351      0              0             0  \n",
            "352      0              0             0  \n",
            "\n",
            "[353 rows x 10 columns]\n"
          ]
        }
      ]
    },
    {
      "cell_type": "markdown",
      "source": [
        "3. description des colonnes du **dataframe** :"
      ],
      "metadata": {
        "id": "eP-LIVHzVPzS"
      }
    },
    {
      "cell_type": "code",
      "source": [
        "print('-'*50)\n",
        "print(\"Columns in data\")\n",
        "print('-'*50)\n",
        "print(df.columns.values)"
      ],
      "metadata": {
        "colab": {
          "base_uri": "https://localhost:8080/"
        },
        "id": "YGvQAnV9Oamr",
        "outputId": "1f696fc5-58d5-448a-c4e1-b4f866055d41"
      },
      "execution_count": 65,
      "outputs": [
        {
          "output_type": "stream",
          "name": "stdout",
          "text": [
            "--------------------------------------------------\n",
            "Columns in data\n",
            "--------------------------------------------------\n",
            "['temps' 'alt' 'lat' 'lon' 'sog' 'cog' 'eng_stat' 'error' 'panic_bt_stat'\n",
            " 'station_stat']\n"
          ]
        }
      ]
    },
    {
      "cell_type": "code",
      "source": [
        "df.head()"
      ],
      "metadata": {
        "id": "QTyLmcu4Oapk",
        "colab": {
          "base_uri": "https://localhost:8080/",
          "height": 206
        },
        "outputId": "11616ee2-90be-49f3-fa0a-5e52656ab477"
      },
      "execution_count": 66,
      "outputs": [
        {
          "output_type": "execute_result",
          "data": {
            "text/plain": [
              "                 temps    alt      lat       lon   sog    cog  eng_stat  \\\n",
              "0  2022-03-19 16:45:02  512.3  35.1892 -0.618785   0.0  108.6         1   \n",
              "1  2022-03-19 16:45:06  512.3  35.1892 -0.618785   0.0  108.6         1   \n",
              "2  2022-03-19 16:48:12  482.6  35.1916 -0.617493  23.3   80.4         1   \n",
              "3  2022-03-19 16:48:37  479.6  35.1917 -0.615918  21.6   83.8         1   \n",
              "4  2022-03-19 18:17:41  469.6  35.1920 -0.614705   0.0  195.9         1   \n",
              "\n",
              "   error  panic_bt_stat  station_stat  \n",
              "0      1              0             0  \n",
              "1      1              0             0  \n",
              "2      1              0             0  \n",
              "3      1              0             0  \n",
              "4      0              0             0  "
            ],
            "text/html": [
              "\n",
              "  <div id=\"df-3b6b3ba4-726f-4cbe-85ea-55451816684e\">\n",
              "    <div class=\"colab-df-container\">\n",
              "      <div>\n",
              "<style scoped>\n",
              "    .dataframe tbody tr th:only-of-type {\n",
              "        vertical-align: middle;\n",
              "    }\n",
              "\n",
              "    .dataframe tbody tr th {\n",
              "        vertical-align: top;\n",
              "    }\n",
              "\n",
              "    .dataframe thead th {\n",
              "        text-align: right;\n",
              "    }\n",
              "</style>\n",
              "<table border=\"1\" class=\"dataframe\">\n",
              "  <thead>\n",
              "    <tr style=\"text-align: right;\">\n",
              "      <th></th>\n",
              "      <th>temps</th>\n",
              "      <th>alt</th>\n",
              "      <th>lat</th>\n",
              "      <th>lon</th>\n",
              "      <th>sog</th>\n",
              "      <th>cog</th>\n",
              "      <th>eng_stat</th>\n",
              "      <th>error</th>\n",
              "      <th>panic_bt_stat</th>\n",
              "      <th>station_stat</th>\n",
              "    </tr>\n",
              "  </thead>\n",
              "  <tbody>\n",
              "    <tr>\n",
              "      <th>0</th>\n",
              "      <td>2022-03-19 16:45:02</td>\n",
              "      <td>512.3</td>\n",
              "      <td>35.1892</td>\n",
              "      <td>-0.618785</td>\n",
              "      <td>0.0</td>\n",
              "      <td>108.6</td>\n",
              "      <td>1</td>\n",
              "      <td>1</td>\n",
              "      <td>0</td>\n",
              "      <td>0</td>\n",
              "    </tr>\n",
              "    <tr>\n",
              "      <th>1</th>\n",
              "      <td>2022-03-19 16:45:06</td>\n",
              "      <td>512.3</td>\n",
              "      <td>35.1892</td>\n",
              "      <td>-0.618785</td>\n",
              "      <td>0.0</td>\n",
              "      <td>108.6</td>\n",
              "      <td>1</td>\n",
              "      <td>1</td>\n",
              "      <td>0</td>\n",
              "      <td>0</td>\n",
              "    </tr>\n",
              "    <tr>\n",
              "      <th>2</th>\n",
              "      <td>2022-03-19 16:48:12</td>\n",
              "      <td>482.6</td>\n",
              "      <td>35.1916</td>\n",
              "      <td>-0.617493</td>\n",
              "      <td>23.3</td>\n",
              "      <td>80.4</td>\n",
              "      <td>1</td>\n",
              "      <td>1</td>\n",
              "      <td>0</td>\n",
              "      <td>0</td>\n",
              "    </tr>\n",
              "    <tr>\n",
              "      <th>3</th>\n",
              "      <td>2022-03-19 16:48:37</td>\n",
              "      <td>479.6</td>\n",
              "      <td>35.1917</td>\n",
              "      <td>-0.615918</td>\n",
              "      <td>21.6</td>\n",
              "      <td>83.8</td>\n",
              "      <td>1</td>\n",
              "      <td>1</td>\n",
              "      <td>0</td>\n",
              "      <td>0</td>\n",
              "    </tr>\n",
              "    <tr>\n",
              "      <th>4</th>\n",
              "      <td>2022-03-19 18:17:41</td>\n",
              "      <td>469.6</td>\n",
              "      <td>35.1920</td>\n",
              "      <td>-0.614705</td>\n",
              "      <td>0.0</td>\n",
              "      <td>195.9</td>\n",
              "      <td>1</td>\n",
              "      <td>0</td>\n",
              "      <td>0</td>\n",
              "      <td>0</td>\n",
              "    </tr>\n",
              "  </tbody>\n",
              "</table>\n",
              "</div>\n",
              "      <button class=\"colab-df-convert\" onclick=\"convertToInteractive('df-3b6b3ba4-726f-4cbe-85ea-55451816684e')\"\n",
              "              title=\"Convert this dataframe to an interactive table.\"\n",
              "              style=\"display:none;\">\n",
              "        \n",
              "  <svg xmlns=\"http://www.w3.org/2000/svg\" height=\"24px\"viewBox=\"0 0 24 24\"\n",
              "       width=\"24px\">\n",
              "    <path d=\"M0 0h24v24H0V0z\" fill=\"none\"/>\n",
              "    <path d=\"M18.56 5.44l.94 2.06.94-2.06 2.06-.94-2.06-.94-.94-2.06-.94 2.06-2.06.94zm-11 1L8.5 8.5l.94-2.06 2.06-.94-2.06-.94L8.5 2.5l-.94 2.06-2.06.94zm10 10l.94 2.06.94-2.06 2.06-.94-2.06-.94-.94-2.06-.94 2.06-2.06.94z\"/><path d=\"M17.41 7.96l-1.37-1.37c-.4-.4-.92-.59-1.43-.59-.52 0-1.04.2-1.43.59L10.3 9.45l-7.72 7.72c-.78.78-.78 2.05 0 2.83L4 21.41c.39.39.9.59 1.41.59.51 0 1.02-.2 1.41-.59l7.78-7.78 2.81-2.81c.8-.78.8-2.07 0-2.86zM5.41 20L4 18.59l7.72-7.72 1.47 1.35L5.41 20z\"/>\n",
              "  </svg>\n",
              "      </button>\n",
              "      \n",
              "  <style>\n",
              "    .colab-df-container {\n",
              "      display:flex;\n",
              "      flex-wrap:wrap;\n",
              "      gap: 12px;\n",
              "    }\n",
              "\n",
              "    .colab-df-convert {\n",
              "      background-color: #E8F0FE;\n",
              "      border: none;\n",
              "      border-radius: 50%;\n",
              "      cursor: pointer;\n",
              "      display: none;\n",
              "      fill: #1967D2;\n",
              "      height: 32px;\n",
              "      padding: 0 0 0 0;\n",
              "      width: 32px;\n",
              "    }\n",
              "\n",
              "    .colab-df-convert:hover {\n",
              "      background-color: #E2EBFA;\n",
              "      box-shadow: 0px 1px 2px rgba(60, 64, 67, 0.3), 0px 1px 3px 1px rgba(60, 64, 67, 0.15);\n",
              "      fill: #174EA6;\n",
              "    }\n",
              "\n",
              "    [theme=dark] .colab-df-convert {\n",
              "      background-color: #3B4455;\n",
              "      fill: #D2E3FC;\n",
              "    }\n",
              "\n",
              "    [theme=dark] .colab-df-convert:hover {\n",
              "      background-color: #434B5C;\n",
              "      box-shadow: 0px 1px 3px 1px rgba(0, 0, 0, 0.15);\n",
              "      filter: drop-shadow(0px 1px 2px rgba(0, 0, 0, 0.3));\n",
              "      fill: #FFFFFF;\n",
              "    }\n",
              "  </style>\n",
              "\n",
              "      <script>\n",
              "        const buttonEl =\n",
              "          document.querySelector('#df-3b6b3ba4-726f-4cbe-85ea-55451816684e button.colab-df-convert');\n",
              "        buttonEl.style.display =\n",
              "          google.colab.kernel.accessAllowed ? 'block' : 'none';\n",
              "\n",
              "        async function convertToInteractive(key) {\n",
              "          const element = document.querySelector('#df-3b6b3ba4-726f-4cbe-85ea-55451816684e');\n",
              "          const dataTable =\n",
              "            await google.colab.kernel.invokeFunction('convertToInteractive',\n",
              "                                                     [key], {});\n",
              "          if (!dataTable) return;\n",
              "\n",
              "          const docLinkHtml = 'Like what you see? Visit the ' +\n",
              "            '<a target=\"_blank\" href=https://colab.research.google.com/notebooks/data_table.ipynb>data table notebook</a>'\n",
              "            + ' to learn more about interactive tables.';\n",
              "          element.innerHTML = '';\n",
              "          dataTable['output_type'] = 'display_data';\n",
              "          await google.colab.output.renderOutput(dataTable, element);\n",
              "          const docLink = document.createElement('div');\n",
              "          docLink.innerHTML = docLinkHtml;\n",
              "          element.appendChild(docLink);\n",
              "        }\n",
              "      </script>\n",
              "    </div>\n",
              "  </div>\n",
              "  "
            ]
          },
          "metadata": {},
          "execution_count": 66
        }
      ]
    },
    {
      "cell_type": "markdown",
      "source": [
        "3. faire les modifications nécessaire \n",
        "   - changer le type de la colonne **temps** from string to datetime "
      ],
      "metadata": {
        "id": "4ad3CcBhU1h0"
      }
    },
    {
      "cell_type": "code",
      "source": [
        "print(df['temps'])"
      ],
      "metadata": {
        "id": "Wyqh_mAFOasM",
        "colab": {
          "base_uri": "https://localhost:8080/"
        },
        "outputId": "db6e85a8-0d47-4956-b3f2-93776a76941a"
      },
      "execution_count": 67,
      "outputs": [
        {
          "output_type": "stream",
          "name": "stdout",
          "text": [
            "0      2022-03-19 16:45:02\n",
            "1      2022-03-19 16:45:06\n",
            "2      2022-03-19 16:48:12\n",
            "3      2022-03-19 16:48:37\n",
            "4      2022-03-19 18:17:41\n",
            "              ...         \n",
            "348    2022-03-20 12:09:19\n",
            "349    2022-03-20 12:09:21\n",
            "350    2022-03-20 12:09:26\n",
            "351    2022-03-20 12:09:36\n",
            "352    2022-03-20 12:10:01\n",
            "Name: temps, Length: 353, dtype: object\n"
          ]
        }
      ]
    },
    {
      "cell_type": "code",
      "source": [
        "df.info()"
      ],
      "metadata": {
        "id": "oluAdENKOavL",
        "colab": {
          "base_uri": "https://localhost:8080/"
        },
        "outputId": "c3e0c491-09cd-4d72-ee49-9454a748d2aa"
      },
      "execution_count": 68,
      "outputs": [
        {
          "output_type": "stream",
          "name": "stdout",
          "text": [
            "<class 'pandas.core.frame.DataFrame'>\n",
            "RangeIndex: 353 entries, 0 to 352\n",
            "Data columns (total 10 columns):\n",
            " #   Column         Non-Null Count  Dtype  \n",
            "---  ------         --------------  -----  \n",
            " 0   temps          353 non-null    object \n",
            " 1   alt            353 non-null    float64\n",
            " 2   lat            353 non-null    float64\n",
            " 3   lon            353 non-null    float64\n",
            " 4   sog            353 non-null    float64\n",
            " 5   cog            353 non-null    float64\n",
            " 6   eng_stat       353 non-null    int64  \n",
            " 7   error          353 non-null    int64  \n",
            " 8   panic_bt_stat  353 non-null    int64  \n",
            " 9   station_stat   353 non-null    int64  \n",
            "dtypes: float64(5), int64(4), object(1)\n",
            "memory usage: 27.7+ KB\n"
          ]
        }
      ]
    },
    {
      "cell_type": "code",
      "source": [
        "df['temps']= pd.to_datetime(df['temps'])\n",
        "df.info()"
      ],
      "metadata": {
        "colab": {
          "base_uri": "https://localhost:8080/"
        },
        "id": "6JYXYsj6xgZO",
        "outputId": "6d566c68-ede2-4b8b-a347-0323fdb3dbf0"
      },
      "execution_count": 69,
      "outputs": [
        {
          "output_type": "stream",
          "name": "stdout",
          "text": [
            "<class 'pandas.core.frame.DataFrame'>\n",
            "RangeIndex: 353 entries, 0 to 352\n",
            "Data columns (total 10 columns):\n",
            " #   Column         Non-Null Count  Dtype         \n",
            "---  ------         --------------  -----         \n",
            " 0   temps          353 non-null    datetime64[ns]\n",
            " 1   alt            353 non-null    float64       \n",
            " 2   lat            353 non-null    float64       \n",
            " 3   lon            353 non-null    float64       \n",
            " 4   sog            353 non-null    float64       \n",
            " 5   cog            353 non-null    float64       \n",
            " 6   eng_stat       353 non-null    int64         \n",
            " 7   error          353 non-null    int64         \n",
            " 8   panic_bt_stat  353 non-null    int64         \n",
            " 9   station_stat   353 non-null    int64         \n",
            "dtypes: datetime64[ns](1), float64(5), int64(4)\n",
            "memory usage: 27.7 KB\n"
          ]
        }
      ]
    },
    {
      "cell_type": "markdown",
      "source": [
        "4. calcule de la différence en terme de seconde de chaque deux lignes succéssives de la colonne temps :"
      ],
      "metadata": {
        "id": "9aCSEfrkXFsI"
      }
    },
    {
      "cell_type": "code",
      "source": [
        "df['temps'] = df['temps'].view(int).div(1e9).diff().fillna(0).abs()\n",
        "# la fonction abs() sera utile si l'ordre de fichier est descendant par rapport au collone temps\n",
        "df['temps']=df.temps.abs()\n",
        "print(df)"
      ],
      "metadata": {
        "id": "UXWlXsaCOazC",
        "colab": {
          "base_uri": "https://localhost:8080/"
        },
        "outputId": "801cca0b-9b3e-44db-d3e3-35897bfbd7d6"
      },
      "execution_count": 70,
      "outputs": [
        {
          "output_type": "stream",
          "name": "stdout",
          "text": [
            "      temps    alt      lat       lon   sog    cog  eng_stat  error  \\\n",
            "0       0.0  512.3  35.1892 -0.618785   0.0  108.6         1      1   \n",
            "1       4.0  512.3  35.1892 -0.618785   0.0  108.6         1      1   \n",
            "2     186.0  482.6  35.1916 -0.617493  23.3   80.4         1      1   \n",
            "3      25.0  479.6  35.1917 -0.615918  21.6   83.8         1      1   \n",
            "4    5344.0  469.6  35.1920 -0.614705   0.0  195.9         1      0   \n",
            "..      ...    ...      ...       ...   ...    ...       ...    ...   \n",
            "348   163.0  488.2  35.1898 -0.617778   0.0  100.9         1      0   \n",
            "349     2.0  488.2  35.1898 -0.617778   0.0  100.9         1      0   \n",
            "350     5.0  503.5  35.1895 -0.617638  30.1  159.4         1      1   \n",
            "351    10.0  504.0  35.1890 -0.617675  27.8  249.0         1      0   \n",
            "352    25.0  488.8  35.1889 -0.618786  22.7  331.7         1      0   \n",
            "\n",
            "     panic_bt_stat  station_stat  \n",
            "0                0             0  \n",
            "1                0             0  \n",
            "2                0             0  \n",
            "3                0             0  \n",
            "4                0             0  \n",
            "..             ...           ...  \n",
            "348              0             0  \n",
            "349              0             0  \n",
            "350              0             0  \n",
            "351              0             0  \n",
            "352              0             0  \n",
            "\n",
            "[353 rows x 10 columns]\n"
          ]
        }
      ]
    },
    {
      "cell_type": "markdown",
      "source": [
        "5. calcule de l'acceleration en foction de la variation de la vitesse et le temps:\n",
        "- calcule de la variation de vitesse entre chaque 2 point en fonction de la vitesse moyenne et la vitesse maximale\n",
        "- calcule de l'accéleration en terme de deux type de vitesse en ma convertant en seconds\n"
      ],
      "metadata": {
        "id": "rKTdxUtskFX1"
      }
    },
    {
      "cell_type": "code",
      "source": [
        "df['sog_dif'] = df['sog'].diff().fillna(0).abs()\n",
        "print(df)"
      ],
      "metadata": {
        "colab": {
          "base_uri": "https://localhost:8080/"
        },
        "id": "eTcSdegskRF-",
        "outputId": "06e3abd1-4b41-4ee7-80c4-dfb3361c4665"
      },
      "execution_count": 71,
      "outputs": [
        {
          "output_type": "stream",
          "name": "stdout",
          "text": [
            "      temps    alt      lat       lon   sog    cog  eng_stat  error  \\\n",
            "0       0.0  512.3  35.1892 -0.618785   0.0  108.6         1      1   \n",
            "1       4.0  512.3  35.1892 -0.618785   0.0  108.6         1      1   \n",
            "2     186.0  482.6  35.1916 -0.617493  23.3   80.4         1      1   \n",
            "3      25.0  479.6  35.1917 -0.615918  21.6   83.8         1      1   \n",
            "4    5344.0  469.6  35.1920 -0.614705   0.0  195.9         1      0   \n",
            "..      ...    ...      ...       ...   ...    ...       ...    ...   \n",
            "348   163.0  488.2  35.1898 -0.617778   0.0  100.9         1      0   \n",
            "349     2.0  488.2  35.1898 -0.617778   0.0  100.9         1      0   \n",
            "350     5.0  503.5  35.1895 -0.617638  30.1  159.4         1      1   \n",
            "351    10.0  504.0  35.1890 -0.617675  27.8  249.0         1      0   \n",
            "352    25.0  488.8  35.1889 -0.618786  22.7  331.7         1      0   \n",
            "\n",
            "     panic_bt_stat  station_stat  sog_dif  \n",
            "0                0             0      0.0  \n",
            "1                0             0      0.0  \n",
            "2                0             0     23.3  \n",
            "3                0             0      1.7  \n",
            "4                0             0     21.6  \n",
            "..             ...           ...      ...  \n",
            "348              0             0     20.6  \n",
            "349              0             0      0.0  \n",
            "350              0             0     30.1  \n",
            "351              0             0      2.3  \n",
            "352              0             0      5.1  \n",
            "\n",
            "[353 rows x 11 columns]\n"
          ]
        }
      ]
    },
    {
      "cell_type": "code",
      "source": [
        "df['acceleration']=df['sog_dif']*0.27778/df['temps']\n",
        "print(df)"
      ],
      "metadata": {
        "id": "tfC3EL0QmzbJ",
        "outputId": "ee45e182-f0a7-4ae6-e057-3fd1f361bd53",
        "colab": {
          "base_uri": "https://localhost:8080/"
        }
      },
      "execution_count": 72,
      "outputs": [
        {
          "output_type": "stream",
          "name": "stdout",
          "text": [
            "      temps    alt      lat       lon   sog    cog  eng_stat  error  \\\n",
            "0       0.0  512.3  35.1892 -0.618785   0.0  108.6         1      1   \n",
            "1       4.0  512.3  35.1892 -0.618785   0.0  108.6         1      1   \n",
            "2     186.0  482.6  35.1916 -0.617493  23.3   80.4         1      1   \n",
            "3      25.0  479.6  35.1917 -0.615918  21.6   83.8         1      1   \n",
            "4    5344.0  469.6  35.1920 -0.614705   0.0  195.9         1      0   \n",
            "..      ...    ...      ...       ...   ...    ...       ...    ...   \n",
            "348   163.0  488.2  35.1898 -0.617778   0.0  100.9         1      0   \n",
            "349     2.0  488.2  35.1898 -0.617778   0.0  100.9         1      0   \n",
            "350     5.0  503.5  35.1895 -0.617638  30.1  159.4         1      1   \n",
            "351    10.0  504.0  35.1890 -0.617675  27.8  249.0         1      0   \n",
            "352    25.0  488.8  35.1889 -0.618786  22.7  331.7         1      0   \n",
            "\n",
            "     panic_bt_stat  station_stat  sog_dif  acceleration  \n",
            "0                0             0      0.0           NaN  \n",
            "1                0             0      0.0      0.000000  \n",
            "2                0             0     23.3      0.034797  \n",
            "3                0             0      1.7      0.018889  \n",
            "4                0             0     21.6      0.001123  \n",
            "..             ...           ...      ...           ...  \n",
            "348              0             0     20.6      0.035106  \n",
            "349              0             0      0.0      0.000000  \n",
            "350              0             0     30.1      1.672236  \n",
            "351              0             0      2.3      0.063889  \n",
            "352              0             0      5.1      0.056667  \n",
            "\n",
            "[353 rows x 12 columns]\n"
          ]
        }
      ]
    },
    {
      "cell_type": "markdown",
      "source": [
        "6. calcule de la distance en fonction des parametre latitude et longitude :\n",
        "- convertion en radian:"
      ],
      "metadata": {
        "id": "9jtSEjwBWeg7"
      }
    },
    {
      "cell_type": "code",
      "source": [
        "df['LAT_rad'], df['LON_rad'] = np.radians(df['lat']), np.radians(df['lon'])\n"
      ],
      "metadata": {
        "id": "VDOvLWkuvjbm"
      },
      "execution_count": 73,
      "outputs": []
    },
    {
      "cell_type": "markdown",
      "source": [
        "- calcule de distance:\n"
      ],
      "metadata": {
        "id": "qGmkc3GhWdX5"
      }
    },
    {
      "cell_type": "code",
      "source": [
        "print(df.head(30))"
      ],
      "metadata": {
        "id": "VA563Js_cucu",
        "outputId": "e57430fd-a62d-455b-ef3c-6892dce09e8b",
        "colab": {
          "base_uri": "https://localhost:8080/"
        }
      },
      "execution_count": 74,
      "outputs": [
        {
          "output_type": "stream",
          "name": "stdout",
          "text": [
            "     temps    alt      lat       lon   sog    cog  eng_stat  error  \\\n",
            "0      0.0  512.3  35.1892 -0.618785   0.0  108.6         1      1   \n",
            "1      4.0  512.3  35.1892 -0.618785   0.0  108.6         1      1   \n",
            "2    186.0  482.6  35.1916 -0.617493  23.3   80.4         1      1   \n",
            "3     25.0  479.6  35.1917 -0.615918  21.6   83.8         1      1   \n",
            "4   5344.0  469.6  35.1920 -0.614705   0.0  195.9         1      0   \n",
            "5      3.0  469.6  35.1920 -0.614705   0.0  195.9         1      0   \n",
            "6     49.0  481.1  35.1922 -0.614771  20.5  349.2         1      1   \n",
            "7     35.0  481.5  35.1930 -0.614560  22.4   79.1         1      0   \n",
            "8     44.0  475.4  35.1927 -0.612393  21.7  179.8         1      0   \n",
            "9     36.0  488.4  35.1908 -0.612390   2.5  186.7         1      0   \n",
            "10    44.0  494.6  35.1888 -0.612826  21.4  210.5         1      0   \n",
            "11    31.0  475.7  35.1882 -0.613743  22.5  295.1         1      0   \n",
            "12    25.0  472.6  35.1888 -0.615095  20.1  329.9         1      0   \n",
            "13    51.0  478.9  35.1906 -0.615903  20.3  260.4         1      0   \n",
            "14    38.0  488.7  35.1897 -0.617703  20.3  157.5         1      0   \n",
            "15    23.0  501.8  35.1891 -0.617481  12.6  225.0         1      0   \n",
            "16    37.0  497.6  35.1889 -0.618786  21.5  350.3         1      0   \n",
            "17  6185.0  492.0  35.1892 -0.618905   0.0  187.6         1      0   \n",
            "18     5.0  492.0  35.1892 -0.618905   0.0  187.6         1      0   \n",
            "19    88.0  501.3  35.1899 -0.618338  21.3   39.4         1      0   \n",
            "20    46.0  482.3  35.1914 -0.618166  20.3  352.3         1      0   \n",
            "21    44.0  476.2  35.1929 -0.615463  33.3   83.3         1      0   \n",
            "22     1.0  478.1  35.1926 -0.618151  22.4   74.2         1      0   \n",
            "23   101.0  477.4  35.1939 -0.607125  20.4    1.6         1      0   \n",
            "24    31.0  472.0  35.1970 -0.608686  59.2  330.5         1      0   \n",
            "25    79.0  472.9  35.2046 -0.613598  34.6  330.3         1      0   \n",
            "26    78.0  477.7  35.2103 -0.616546  33.5    3.0         1      0   \n",
            "27    27.0  471.3  35.2128 -0.616076  39.9   33.9         1      0   \n",
            "28    48.0  467.4  35.2168 -0.613223  31.5    2.2         1      0   \n",
            "29    59.0  460.7  35.2224 -0.612171  29.1    9.6         1      0   \n",
            "\n",
            "    panic_bt_stat  station_stat  sog_dif  acceleration   LAT_rad   LON_rad  \n",
            "0               0             0      0.0           NaN  0.614167 -0.010800  \n",
            "1               0             0      0.0      0.000000  0.614167 -0.010800  \n",
            "2               0             0     23.3      0.034797  0.614209 -0.010777  \n",
            "3               0             0      1.7      0.018889  0.614211 -0.010750  \n",
            "4               0             0     21.6      0.001123  0.614216 -0.010729  \n",
            "5               0             0      0.0      0.000000  0.614216 -0.010729  \n",
            "6               0             0     20.5      0.116214  0.614220 -0.010730  \n",
            "7               0             0      1.9      0.015079  0.614234 -0.010726  \n",
            "8               0             0      0.7      0.004419  0.614228 -0.010688  \n",
            "9               0             0     19.2      0.148149  0.614195 -0.010688  \n",
            "10              0             0     18.9      0.119319  0.614160 -0.010696  \n",
            "11              0             0      1.1      0.009857  0.614150 -0.010712  \n",
            "12              0             0      2.4      0.026667  0.614160 -0.010735  \n",
            "13              0             0      0.2      0.001089  0.614192 -0.010750  \n",
            "14              0             0      0.0      0.000000  0.614176 -0.010781  \n",
            "15              0             0      7.7      0.092996  0.614166 -0.010777  \n",
            "16              0             0      8.9      0.066817  0.614162 -0.010800  \n",
            "17              0             0     21.5      0.000966  0.614167 -0.010802  \n",
            "18              0             0      0.0      0.000000  0.614167 -0.010802  \n",
            "19              0             0     21.3      0.067235  0.614180 -0.010792  \n",
            "20              0             0      1.0      0.006039  0.614206 -0.010789  \n",
            "21              0             0     13.0      0.082071  0.614232 -0.010742  \n",
            "22              0             0     10.9      3.027802  0.614227 -0.010789  \n",
            "23              0             0      2.0      0.005501  0.614249 -0.010596  \n",
            "24              0             0     38.8      0.347673  0.614304 -0.010624  \n",
            "25              0             0     24.6      0.086499  0.614436 -0.010709  \n",
            "26              0             0      1.1      0.003917  0.614536 -0.010761  \n",
            "27              0             0      6.4      0.065844  0.614579 -0.010753  \n",
            "28              0             0      8.4      0.048611  0.614649 -0.010703  \n",
            "29              0             0      2.4      0.011300  0.614747 -0.010684  \n"
          ]
        }
      ]
    },
    {
      "cell_type": "code",
      "source": [
        "# vectorized haversine function\n",
        "import numpy as np\n",
        "def haversine(lat1, lon1, lat2, lon2, to_radians=True, earth_radius=6371):\n",
        "    #if to_radians:\n",
        "    #   lat1, lon1, lat2, lon2 = np.radians([lat1, lon1, lat2, lon2])\n",
        "\n",
        "    a = np.sin((lat2-lat1)/2.0)**2 + \\\n",
        "        np.cos(lat1) * np.cos(lat2) * np.sin((lon2-lon1)/2.0)**2\n",
        "\n",
        "    return earth_radius * 2 * np.arcsin(np.sqrt(a))\n",
        "\n",
        "\n",
        "df['dist'] = \\\n",
        "    haversine(df.LAT_rad.shift(), df.LON_rad.shift(),\n",
        "                 df.loc[1:, 'LAT_rad'], df.loc[1:, 'LON_rad'])"
      ],
      "metadata": {
        "id": "9bvb7pqLYt6K"
      },
      "execution_count": 75,
      "outputs": []
    },
    {
      "cell_type": "code",
      "source": [
        "print(df.head(30))"
      ],
      "metadata": {
        "id": "MgFFo7Rwqhs5",
        "outputId": "04ccdd7b-f4db-4a6d-bca8-65411755340b",
        "colab": {
          "base_uri": "https://localhost:8080/"
        }
      },
      "execution_count": 76,
      "outputs": [
        {
          "output_type": "stream",
          "name": "stdout",
          "text": [
            "     temps    alt      lat       lon   sog    cog  eng_stat  error  \\\n",
            "0      0.0  512.3  35.1892 -0.618785   0.0  108.6         1      1   \n",
            "1      4.0  512.3  35.1892 -0.618785   0.0  108.6         1      1   \n",
            "2    186.0  482.6  35.1916 -0.617493  23.3   80.4         1      1   \n",
            "3     25.0  479.6  35.1917 -0.615918  21.6   83.8         1      1   \n",
            "4   5344.0  469.6  35.1920 -0.614705   0.0  195.9         1      0   \n",
            "5      3.0  469.6  35.1920 -0.614705   0.0  195.9         1      0   \n",
            "6     49.0  481.1  35.1922 -0.614771  20.5  349.2         1      1   \n",
            "7     35.0  481.5  35.1930 -0.614560  22.4   79.1         1      0   \n",
            "8     44.0  475.4  35.1927 -0.612393  21.7  179.8         1      0   \n",
            "9     36.0  488.4  35.1908 -0.612390   2.5  186.7         1      0   \n",
            "10    44.0  494.6  35.1888 -0.612826  21.4  210.5         1      0   \n",
            "11    31.0  475.7  35.1882 -0.613743  22.5  295.1         1      0   \n",
            "12    25.0  472.6  35.1888 -0.615095  20.1  329.9         1      0   \n",
            "13    51.0  478.9  35.1906 -0.615903  20.3  260.4         1      0   \n",
            "14    38.0  488.7  35.1897 -0.617703  20.3  157.5         1      0   \n",
            "15    23.0  501.8  35.1891 -0.617481  12.6  225.0         1      0   \n",
            "16    37.0  497.6  35.1889 -0.618786  21.5  350.3         1      0   \n",
            "17  6185.0  492.0  35.1892 -0.618905   0.0  187.6         1      0   \n",
            "18     5.0  492.0  35.1892 -0.618905   0.0  187.6         1      0   \n",
            "19    88.0  501.3  35.1899 -0.618338  21.3   39.4         1      0   \n",
            "20    46.0  482.3  35.1914 -0.618166  20.3  352.3         1      0   \n",
            "21    44.0  476.2  35.1929 -0.615463  33.3   83.3         1      0   \n",
            "22     1.0  478.1  35.1926 -0.618151  22.4   74.2         1      0   \n",
            "23   101.0  477.4  35.1939 -0.607125  20.4    1.6         1      0   \n",
            "24    31.0  472.0  35.1970 -0.608686  59.2  330.5         1      0   \n",
            "25    79.0  472.9  35.2046 -0.613598  34.6  330.3         1      0   \n",
            "26    78.0  477.7  35.2103 -0.616546  33.5    3.0         1      0   \n",
            "27    27.0  471.3  35.2128 -0.616076  39.9   33.9         1      0   \n",
            "28    48.0  467.4  35.2168 -0.613223  31.5    2.2         1      0   \n",
            "29    59.0  460.7  35.2224 -0.612171  29.1    9.6         1      0   \n",
            "\n",
            "    panic_bt_stat  station_stat  sog_dif  acceleration   LAT_rad   LON_rad  \\\n",
            "0               0             0      0.0           NaN  0.614167 -0.010800   \n",
            "1               0             0      0.0      0.000000  0.614167 -0.010800   \n",
            "2               0             0     23.3      0.034797  0.614209 -0.010777   \n",
            "3               0             0      1.7      0.018889  0.614211 -0.010750   \n",
            "4               0             0     21.6      0.001123  0.614216 -0.010729   \n",
            "5               0             0      0.0      0.000000  0.614216 -0.010729   \n",
            "6               0             0     20.5      0.116214  0.614220 -0.010730   \n",
            "7               0             0      1.9      0.015079  0.614234 -0.010726   \n",
            "8               0             0      0.7      0.004419  0.614228 -0.010688   \n",
            "9               0             0     19.2      0.148149  0.614195 -0.010688   \n",
            "10              0             0     18.9      0.119319  0.614160 -0.010696   \n",
            "11              0             0      1.1      0.009857  0.614150 -0.010712   \n",
            "12              0             0      2.4      0.026667  0.614160 -0.010735   \n",
            "13              0             0      0.2      0.001089  0.614192 -0.010750   \n",
            "14              0             0      0.0      0.000000  0.614176 -0.010781   \n",
            "15              0             0      7.7      0.092996  0.614166 -0.010777   \n",
            "16              0             0      8.9      0.066817  0.614162 -0.010800   \n",
            "17              0             0     21.5      0.000966  0.614167 -0.010802   \n",
            "18              0             0      0.0      0.000000  0.614167 -0.010802   \n",
            "19              0             0     21.3      0.067235  0.614180 -0.010792   \n",
            "20              0             0      1.0      0.006039  0.614206 -0.010789   \n",
            "21              0             0     13.0      0.082071  0.614232 -0.010742   \n",
            "22              0             0     10.9      3.027802  0.614227 -0.010789   \n",
            "23              0             0      2.0      0.005501  0.614249 -0.010596   \n",
            "24              0             0     38.8      0.347673  0.614304 -0.010624   \n",
            "25              0             0     24.6      0.086499  0.614436 -0.010709   \n",
            "26              0             0      1.1      0.003917  0.614536 -0.010761   \n",
            "27              0             0      6.4      0.065844  0.614579 -0.010753   \n",
            "28              0             0      8.4      0.048611  0.614649 -0.010703   \n",
            "29              0             0      2.4      0.011300  0.614747 -0.010684   \n",
            "\n",
            "        dist  \n",
            "0        NaN  \n",
            "1   0.000000  \n",
            "2   0.291553  \n",
            "3   0.143554  \n",
            "4   0.115164  \n",
            "5   0.000000  \n",
            "6   0.023034  \n",
            "7   0.090999  \n",
            "8   0.199722  \n",
            "9   0.211271  \n",
            "10  0.225892  \n",
            "11  0.106750  \n",
            "12  0.139809  \n",
            "13  0.213194  \n",
            "14  0.191757  \n",
            "15  0.069700  \n",
            "16  0.120659  \n",
            "17  0.035068  \n",
            "18  0.000000  \n",
            "19  0.093346  \n",
            "20  0.167523  \n",
            "21  0.296903  \n",
            "22  0.246527  \n",
            "23  1.012306  \n",
            "24  0.372748  \n",
            "25  0.955697  \n",
            "26  0.688080  \n",
            "27  0.281248  \n",
            "28  0.514786  \n",
            "29  0.629982  \n"
          ]
        }
      ]
    },
    {
      "cell_type": "code",
      "source": [
        "print(df.loc[:,['temps','sog','dist']])"
      ],
      "metadata": {
        "id": "47Aw7iN3vCiX",
        "outputId": "68dfd55f-7228-4346-b675-a553ff75c950",
        "colab": {
          "base_uri": "https://localhost:8080/"
        }
      },
      "execution_count": 78,
      "outputs": [
        {
          "output_type": "stream",
          "name": "stdout",
          "text": [
            "      temps   sog      dist\n",
            "0       0.0   0.0       NaN\n",
            "1       4.0   0.0  0.000000\n",
            "2     186.0  23.3  0.291553\n",
            "3      25.0  21.6  0.143554\n",
            "4    5344.0   0.0  0.115164\n",
            "..      ...   ...       ...\n",
            "348   163.0   0.0  0.107174\n",
            "349     2.0   0.0  0.000000\n",
            "350     5.0  30.1  0.035702\n",
            "351    10.0  27.8  0.055699\n",
            "352    25.0  22.7  0.101572\n",
            "\n",
            "[353 rows x 3 columns]\n"
          ]
        }
      ]
    }
  ]
}