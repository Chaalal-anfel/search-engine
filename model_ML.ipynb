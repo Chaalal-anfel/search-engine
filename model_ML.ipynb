{
  "nbformat": 4,
  "nbformat_minor": 0,
  "metadata": {
    "colab": {
      "name": "model_ML.ipynb",
      "provenance": [],
      "collapsed_sections": [],
      "authorship_tag": "ABX9TyN05+enqck/A6SFrrUy0jso",
      "include_colab_link": true
    },
    "kernelspec": {
      "name": "python3",
      "display_name": "Python 3"
    },
    "language_info": {
      "name": "python"
    }
  },
  "cells": [
    {
      "cell_type": "markdown",
      "metadata": {
        "id": "view-in-github",
        "colab_type": "text"
      },
      "source": [
        "<a href=\"https://colab.research.google.com/github/Chaalal-anfel/search-engine/blob/master/model_ML.ipynb\" target=\"_parent\"><img src=\"https://colab.research.google.com/assets/colab-badge.svg\" alt=\"Open In Colab\"/></a>"
      ]
    },
    {
      "cell_type": "code",
      "execution_count": 50,
      "metadata": {
        "id": "_-XZosMrMx_R"
      },
      "outputs": [],
      "source": [
        "%matplotlib inline\n",
        "import numpy as np\n",
        "import pandas as pd\n",
        "import matplotlib.pyplot as plt\n",
        "import seaborn as sns\n",
        "\n",
        "from sklearn.neighbors import KNeighborsClassifier\n",
        "from sklearn.naive_bayes import GaussianNB\n",
        "from sklearn.tree import DecisionTreeClassifier\n",
        "from sklearn.model_selection import train_test_split\n",
        "from sklearn.metrics import confusion_matrix, classification_report\n",
        "from sklearn import preprocessing\n"
      ]
    },
    {
      "cell_type": "markdown",
      "source": [
        "installation des bibliotèque nécessaire !!!!\n",
        " "
      ],
      "metadata": {
        "id": "eNf5N_JVU20M"
      }
    },
    {
      "cell_type": "markdown",
      "source": [
        "# Nouvelle section"
      ],
      "metadata": {
        "id": "R9dJV6wGI1oz"
      }
    },
    {
      "cell_type": "markdown",
      "source": [
        "2. importation et lecture de fichier de données:"
      ],
      "metadata": {
        "id": "Lz8s-MiSVEq-"
      }
    },
    {
      "cell_type": "code",
      "source": [
        "df = pd.read_csv('donnees_vitesse_ch3_v1.6.csv')"
      ],
      "metadata": {
        "id": "5W1bN4rrOag7"
      },
      "execution_count": 51,
      "outputs": []
    },
    {
      "cell_type": "code",
      "source": [
        "print(df)\n"
      ],
      "metadata": {
        "colab": {
          "base_uri": "https://localhost:8080/"
        },
        "id": "LB46v34SOajb",
        "outputId": "6d07ea33-e0b5-442a-9b0d-46d6a8a3df7e"
      },
      "execution_count": 52,
      "outputs": [
        {
          "output_type": "stream",
          "name": "stdout",
          "text": [
            "                   temps     id  vitesse_med  vitesse_max  distance\n",
            "0    2022-03-18 14:50:11  94374            0            0         0\n",
            "1    2022-03-18 14:50:00  94373           11           43      1633\n",
            "2    2022-03-18 14:49:59  94372           11           43      1633\n",
            "3    2022-03-18 14:48:00  94371           11           43      1633\n",
            "4    2022-03-18 14:40:00  94370            0           22        37\n",
            "..                   ...    ...          ...          ...       ...\n",
            "167  2022-03-16 17:55:47  94207           59          118     49529\n",
            "168  2022-03-16 17:50:00  94206           57          111     43448\n",
            "169  2022-03-16 17:40:00  94205           49          110     30651\n",
            "170  2022-03-16 17:30:00  94204           37          100     18234\n",
            "171  2022-03-16 17:20:00  94203           35          100     12777\n",
            "\n",
            "[172 rows x 5 columns]\n"
          ]
        }
      ]
    },
    {
      "cell_type": "markdown",
      "source": [
        "3. description des colonnes du **dataframe** :"
      ],
      "metadata": {
        "id": "eP-LIVHzVPzS"
      }
    },
    {
      "cell_type": "code",
      "source": [
        "print('-'*50)\n",
        "print(\"Columns in data\")\n",
        "print('-'*50)\n",
        "print(df.columns.values)"
      ],
      "metadata": {
        "colab": {
          "base_uri": "https://localhost:8080/"
        },
        "id": "YGvQAnV9Oamr",
        "outputId": "d2728939-4203-41db-8d2f-79b9242e4546"
      },
      "execution_count": 53,
      "outputs": [
        {
          "output_type": "stream",
          "name": "stdout",
          "text": [
            "--------------------------------------------------\n",
            "Columns in data\n",
            "--------------------------------------------------\n",
            "['temps' 'id' 'vitesse_med' 'vitesse_max' 'distance']\n"
          ]
        }
      ]
    },
    {
      "cell_type": "code",
      "source": [
        "df.head()"
      ],
      "metadata": {
        "id": "QTyLmcu4Oapk",
        "colab": {
          "base_uri": "https://localhost:8080/",
          "height": 206
        },
        "outputId": "300af62e-1f65-4f62-ffec-726f7270b099"
      },
      "execution_count": 54,
      "outputs": [
        {
          "output_type": "execute_result",
          "data": {
            "text/plain": [
              "                 temps     id  vitesse_med  vitesse_max  distance\n",
              "0  2022-03-18 14:50:11  94374            0            0         0\n",
              "1  2022-03-18 14:50:00  94373           11           43      1633\n",
              "2  2022-03-18 14:49:59  94372           11           43      1633\n",
              "3  2022-03-18 14:48:00  94371           11           43      1633\n",
              "4  2022-03-18 14:40:00  94370            0           22        37"
            ],
            "text/html": [
              "\n",
              "  <div id=\"df-b5c6f6a7-ddaa-4448-8fc4-64ec2ef7df9f\">\n",
              "    <div class=\"colab-df-container\">\n",
              "      <div>\n",
              "<style scoped>\n",
              "    .dataframe tbody tr th:only-of-type {\n",
              "        vertical-align: middle;\n",
              "    }\n",
              "\n",
              "    .dataframe tbody tr th {\n",
              "        vertical-align: top;\n",
              "    }\n",
              "\n",
              "    .dataframe thead th {\n",
              "        text-align: right;\n",
              "    }\n",
              "</style>\n",
              "<table border=\"1\" class=\"dataframe\">\n",
              "  <thead>\n",
              "    <tr style=\"text-align: right;\">\n",
              "      <th></th>\n",
              "      <th>temps</th>\n",
              "      <th>id</th>\n",
              "      <th>vitesse_med</th>\n",
              "      <th>vitesse_max</th>\n",
              "      <th>distance</th>\n",
              "    </tr>\n",
              "  </thead>\n",
              "  <tbody>\n",
              "    <tr>\n",
              "      <th>0</th>\n",
              "      <td>2022-03-18 14:50:11</td>\n",
              "      <td>94374</td>\n",
              "      <td>0</td>\n",
              "      <td>0</td>\n",
              "      <td>0</td>\n",
              "    </tr>\n",
              "    <tr>\n",
              "      <th>1</th>\n",
              "      <td>2022-03-18 14:50:00</td>\n",
              "      <td>94373</td>\n",
              "      <td>11</td>\n",
              "      <td>43</td>\n",
              "      <td>1633</td>\n",
              "    </tr>\n",
              "    <tr>\n",
              "      <th>2</th>\n",
              "      <td>2022-03-18 14:49:59</td>\n",
              "      <td>94372</td>\n",
              "      <td>11</td>\n",
              "      <td>43</td>\n",
              "      <td>1633</td>\n",
              "    </tr>\n",
              "    <tr>\n",
              "      <th>3</th>\n",
              "      <td>2022-03-18 14:48:00</td>\n",
              "      <td>94371</td>\n",
              "      <td>11</td>\n",
              "      <td>43</td>\n",
              "      <td>1633</td>\n",
              "    </tr>\n",
              "    <tr>\n",
              "      <th>4</th>\n",
              "      <td>2022-03-18 14:40:00</td>\n",
              "      <td>94370</td>\n",
              "      <td>0</td>\n",
              "      <td>22</td>\n",
              "      <td>37</td>\n",
              "    </tr>\n",
              "  </tbody>\n",
              "</table>\n",
              "</div>\n",
              "      <button class=\"colab-df-convert\" onclick=\"convertToInteractive('df-b5c6f6a7-ddaa-4448-8fc4-64ec2ef7df9f')\"\n",
              "              title=\"Convert this dataframe to an interactive table.\"\n",
              "              style=\"display:none;\">\n",
              "        \n",
              "  <svg xmlns=\"http://www.w3.org/2000/svg\" height=\"24px\"viewBox=\"0 0 24 24\"\n",
              "       width=\"24px\">\n",
              "    <path d=\"M0 0h24v24H0V0z\" fill=\"none\"/>\n",
              "    <path d=\"M18.56 5.44l.94 2.06.94-2.06 2.06-.94-2.06-.94-.94-2.06-.94 2.06-2.06.94zm-11 1L8.5 8.5l.94-2.06 2.06-.94-2.06-.94L8.5 2.5l-.94 2.06-2.06.94zm10 10l.94 2.06.94-2.06 2.06-.94-2.06-.94-.94-2.06-.94 2.06-2.06.94z\"/><path d=\"M17.41 7.96l-1.37-1.37c-.4-.4-.92-.59-1.43-.59-.52 0-1.04.2-1.43.59L10.3 9.45l-7.72 7.72c-.78.78-.78 2.05 0 2.83L4 21.41c.39.39.9.59 1.41.59.51 0 1.02-.2 1.41-.59l7.78-7.78 2.81-2.81c.8-.78.8-2.07 0-2.86zM5.41 20L4 18.59l7.72-7.72 1.47 1.35L5.41 20z\"/>\n",
              "  </svg>\n",
              "      </button>\n",
              "      \n",
              "  <style>\n",
              "    .colab-df-container {\n",
              "      display:flex;\n",
              "      flex-wrap:wrap;\n",
              "      gap: 12px;\n",
              "    }\n",
              "\n",
              "    .colab-df-convert {\n",
              "      background-color: #E8F0FE;\n",
              "      border: none;\n",
              "      border-radius: 50%;\n",
              "      cursor: pointer;\n",
              "      display: none;\n",
              "      fill: #1967D2;\n",
              "      height: 32px;\n",
              "      padding: 0 0 0 0;\n",
              "      width: 32px;\n",
              "    }\n",
              "\n",
              "    .colab-df-convert:hover {\n",
              "      background-color: #E2EBFA;\n",
              "      box-shadow: 0px 1px 2px rgba(60, 64, 67, 0.3), 0px 1px 3px 1px rgba(60, 64, 67, 0.15);\n",
              "      fill: #174EA6;\n",
              "    }\n",
              "\n",
              "    [theme=dark] .colab-df-convert {\n",
              "      background-color: #3B4455;\n",
              "      fill: #D2E3FC;\n",
              "    }\n",
              "\n",
              "    [theme=dark] .colab-df-convert:hover {\n",
              "      background-color: #434B5C;\n",
              "      box-shadow: 0px 1px 3px 1px rgba(0, 0, 0, 0.15);\n",
              "      filter: drop-shadow(0px 1px 2px rgba(0, 0, 0, 0.3));\n",
              "      fill: #FFFFFF;\n",
              "    }\n",
              "  </style>\n",
              "\n",
              "      <script>\n",
              "        const buttonEl =\n",
              "          document.querySelector('#df-b5c6f6a7-ddaa-4448-8fc4-64ec2ef7df9f button.colab-df-convert');\n",
              "        buttonEl.style.display =\n",
              "          google.colab.kernel.accessAllowed ? 'block' : 'none';\n",
              "\n",
              "        async function convertToInteractive(key) {\n",
              "          const element = document.querySelector('#df-b5c6f6a7-ddaa-4448-8fc4-64ec2ef7df9f');\n",
              "          const dataTable =\n",
              "            await google.colab.kernel.invokeFunction('convertToInteractive',\n",
              "                                                     [key], {});\n",
              "          if (!dataTable) return;\n",
              "\n",
              "          const docLinkHtml = 'Like what you see? Visit the ' +\n",
              "            '<a target=\"_blank\" href=https://colab.research.google.com/notebooks/data_table.ipynb>data table notebook</a>'\n",
              "            + ' to learn more about interactive tables.';\n",
              "          element.innerHTML = '';\n",
              "          dataTable['output_type'] = 'display_data';\n",
              "          await google.colab.output.renderOutput(dataTable, element);\n",
              "          const docLink = document.createElement('div');\n",
              "          docLink.innerHTML = docLinkHtml;\n",
              "          element.appendChild(docLink);\n",
              "        }\n",
              "      </script>\n",
              "    </div>\n",
              "  </div>\n",
              "  "
            ]
          },
          "metadata": {},
          "execution_count": 54
        }
      ]
    },
    {
      "cell_type": "markdown",
      "source": [
        "3. faire les modifications nécessaire \n",
        "   - changer le type de la colonne **temps** from string to datetime "
      ],
      "metadata": {
        "id": "4ad3CcBhU1h0"
      }
    },
    {
      "cell_type": "code",
      "source": [
        "print(df['temps'])"
      ],
      "metadata": {
        "id": "Wyqh_mAFOasM",
        "colab": {
          "base_uri": "https://localhost:8080/"
        },
        "outputId": "00026bfe-ffec-4d9b-d397-9ae86cce2623"
      },
      "execution_count": 55,
      "outputs": [
        {
          "output_type": "stream",
          "name": "stdout",
          "text": [
            "0      2022-03-18 14:50:11\n",
            "1      2022-03-18 14:50:00\n",
            "2      2022-03-18 14:49:59\n",
            "3      2022-03-18 14:48:00\n",
            "4      2022-03-18 14:40:00\n",
            "              ...         \n",
            "167    2022-03-16 17:55:47\n",
            "168    2022-03-16 17:50:00\n",
            "169    2022-03-16 17:40:00\n",
            "170    2022-03-16 17:30:00\n",
            "171    2022-03-16 17:20:00\n",
            "Name: temps, Length: 172, dtype: object\n"
          ]
        }
      ]
    },
    {
      "cell_type": "code",
      "source": [
        "df.info()"
      ],
      "metadata": {
        "id": "oluAdENKOavL",
        "colab": {
          "base_uri": "https://localhost:8080/"
        },
        "outputId": "5219afb1-2059-444e-92d4-61cfbeab0a1f"
      },
      "execution_count": 56,
      "outputs": [
        {
          "output_type": "stream",
          "name": "stdout",
          "text": [
            "<class 'pandas.core.frame.DataFrame'>\n",
            "RangeIndex: 172 entries, 0 to 171\n",
            "Data columns (total 5 columns):\n",
            " #   Column       Non-Null Count  Dtype \n",
            "---  ------       --------------  ----- \n",
            " 0   temps        172 non-null    object\n",
            " 1   id           172 non-null    int64 \n",
            " 2   vitesse_med  172 non-null    int64 \n",
            " 3   vitesse_max  172 non-null    int64 \n",
            " 4   distance     172 non-null    int64 \n",
            "dtypes: int64(4), object(1)\n",
            "memory usage: 6.8+ KB\n"
          ]
        }
      ]
    },
    {
      "cell_type": "code",
      "source": [
        "df['temps']= pd.to_datetime(df['temps'])\n",
        "df.info()"
      ],
      "metadata": {
        "colab": {
          "base_uri": "https://localhost:8080/"
        },
        "id": "6JYXYsj6xgZO",
        "outputId": "96d50914-c582-4890-9441-7e79eadc891d"
      },
      "execution_count": 57,
      "outputs": [
        {
          "output_type": "stream",
          "name": "stdout",
          "text": [
            "<class 'pandas.core.frame.DataFrame'>\n",
            "RangeIndex: 172 entries, 0 to 171\n",
            "Data columns (total 5 columns):\n",
            " #   Column       Non-Null Count  Dtype         \n",
            "---  ------       --------------  -----         \n",
            " 0   temps        172 non-null    datetime64[ns]\n",
            " 1   id           172 non-null    int64         \n",
            " 2   vitesse_med  172 non-null    int64         \n",
            " 3   vitesse_max  172 non-null    int64         \n",
            " 4   distance     172 non-null    int64         \n",
            "dtypes: datetime64[ns](1), int64(4)\n",
            "memory usage: 6.8 KB\n"
          ]
        }
      ]
    },
    {
      "cell_type": "markdown",
      "source": [
        "4. calcule de la différence en terme de seconde de chaque deux lignes succéssives de la colonne temps :"
      ],
      "metadata": {
        "id": "9aCSEfrkXFsI"
      }
    },
    {
      "cell_type": "code",
      "source": [
        "df['temps'] = df['temps'].view(int).div(1e9).diff().fillna(0).abs()\n",
        "# la fonction abs() sera utile si l'ordre de fichier est descendant par rapport au collone temps\n",
        "df['temps']=df.temps.abs()\n",
        "print(df)"
      ],
      "metadata": {
        "id": "UXWlXsaCOazC",
        "colab": {
          "base_uri": "https://localhost:8080/"
        },
        "outputId": "feffd057-57ba-4304-c5ba-39bb26692d6f"
      },
      "execution_count": 58,
      "outputs": [
        {
          "output_type": "stream",
          "name": "stdout",
          "text": [
            "      temps     id  vitesse_med  vitesse_max  distance\n",
            "0       0.0  94374            0            0         0\n",
            "1      11.0  94373           11           43      1633\n",
            "2       1.0  94372           11           43      1633\n",
            "3     119.0  94371           11           43      1633\n",
            "4     480.0  94370            0           22        37\n",
            "..      ...    ...          ...          ...       ...\n",
            "167  1093.0  94207           59          118     49529\n",
            "168   347.0  94206           57          111     43448\n",
            "169   600.0  94205           49          110     30651\n",
            "170   600.0  94204           37          100     18234\n",
            "171   600.0  94203           35          100     12777\n",
            "\n",
            "[172 rows x 5 columns]\n"
          ]
        }
      ]
    },
    {
      "cell_type": "markdown",
      "source": [
        "5. calcule de l'acceleration en foction de la variation de la vitesse et le temps:\n",
        "- calcule de la variation de vitesse entre chaque 2 point en fonction de la vitesse moyenne et la vitesse maximale\n",
        "- calcule de l'accéleration en terme de deux type de vitesse en ma convertant en seconds\n"
      ],
      "metadata": {
        "id": "rKTdxUtskFX1"
      }
    },
    {
      "cell_type": "code",
      "source": [
        "df['vitesse_med_dif'] = df['vitesse_med'].view(int).diff().fillna(0).abs()\n",
        "df['vitesse_max_dif'] = df['vitesse_max'].view(int).diff().fillna(0).abs()\n",
        "print(df)"
      ],
      "metadata": {
        "colab": {
          "base_uri": "https://localhost:8080/"
        },
        "id": "eTcSdegskRF-",
        "outputId": "781beddc-613b-4603-e065-b1aaeeaeebfe"
      },
      "execution_count": 59,
      "outputs": [
        {
          "output_type": "stream",
          "name": "stdout",
          "text": [
            "      temps     id  vitesse_med  vitesse_max  distance  vitesse_med_dif  \\\n",
            "0       0.0  94374            0            0         0              0.0   \n",
            "1      11.0  94373           11           43      1633             11.0   \n",
            "2       1.0  94372           11           43      1633              0.0   \n",
            "3     119.0  94371           11           43      1633              0.0   \n",
            "4     480.0  94370            0           22        37             11.0   \n",
            "..      ...    ...          ...          ...       ...              ...   \n",
            "167  1093.0  94207           59          118     49529              0.0   \n",
            "168   347.0  94206           57          111     43448              2.0   \n",
            "169   600.0  94205           49          110     30651              8.0   \n",
            "170   600.0  94204           37          100     18234             12.0   \n",
            "171   600.0  94203           35          100     12777              2.0   \n",
            "\n",
            "     vitesse_max_dif  \n",
            "0                0.0  \n",
            "1               43.0  \n",
            "2                0.0  \n",
            "3                0.0  \n",
            "4               21.0  \n",
            "..               ...  \n",
            "167              0.0  \n",
            "168              7.0  \n",
            "169              1.0  \n",
            "170             10.0  \n",
            "171              0.0  \n",
            "\n",
            "[172 rows x 7 columns]\n"
          ]
        }
      ]
    },
    {
      "cell_type": "code",
      "source": [
        "df['acc_vitesse_max']=df['vitesse_max_dif']*0.27778/df['temps']\n",
        "df['acc_vitesse_med']=df['vitesse_med_dif']*0.27778/df['temps']\n",
        "print(df)"
      ],
      "metadata": {
        "id": "tfC3EL0QmzbJ",
        "outputId": "bd36dec2-19d1-421a-ad35-beb5d4dacbe5",
        "colab": {
          "base_uri": "https://localhost:8080/"
        }
      },
      "execution_count": 60,
      "outputs": [
        {
          "output_type": "stream",
          "name": "stdout",
          "text": [
            "      temps     id  vitesse_med  vitesse_max  distance  vitesse_med_dif  \\\n",
            "0       0.0  94374            0            0         0              0.0   \n",
            "1      11.0  94373           11           43      1633             11.0   \n",
            "2       1.0  94372           11           43      1633              0.0   \n",
            "3     119.0  94371           11           43      1633              0.0   \n",
            "4     480.0  94370            0           22        37             11.0   \n",
            "..      ...    ...          ...          ...       ...              ...   \n",
            "167  1093.0  94207           59          118     49529              0.0   \n",
            "168   347.0  94206           57          111     43448              2.0   \n",
            "169   600.0  94205           49          110     30651              8.0   \n",
            "170   600.0  94204           37          100     18234             12.0   \n",
            "171   600.0  94203           35          100     12777              2.0   \n",
            "\n",
            "     vitesse_max_dif  acc_vitesse_max  acc_vitesse_med  \n",
            "0                0.0              NaN              NaN  \n",
            "1               43.0         1.085867         0.277780  \n",
            "2                0.0         0.000000         0.000000  \n",
            "3                0.0         0.000000         0.000000  \n",
            "4               21.0         0.012153         0.006366  \n",
            "..               ...              ...              ...  \n",
            "167              0.0         0.000000         0.000000  \n",
            "168              7.0         0.005604         0.001601  \n",
            "169              1.0         0.000463         0.003704  \n",
            "170             10.0         0.004630         0.005556  \n",
            "171              0.0         0.000000         0.000926  \n",
            "\n",
            "[172 rows x 9 columns]\n"
          ]
        }
      ]
    },
    {
      "cell_type": "code",
      "source": [
        ""
      ],
      "metadata": {
        "id": "VDOvLWkuvjbm"
      },
      "execution_count": null,
      "outputs": []
    }
  ]
}